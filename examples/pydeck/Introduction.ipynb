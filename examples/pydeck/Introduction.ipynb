{
 "cells": [
  {
   "cell_type": "markdown",
   "metadata": {},
   "source": [
    "# Pydeck Earth Engine Introduction\n",
    "\n",
    "This is an introduction to using [Pydeck](https://pydeck.gl) and [Deck.gl](https://deck.gl) with [Google Earth Engine](https://earthengine.google.com/) in Jupyter Notebooks."
   ]
  },
  {
   "cell_type": "markdown",
   "metadata": {},
   "source": [
    "If you wish to run this locally, you'll need to install some dependencies. Installing into a new Conda environment is recommended. To create and enter the environment, run:\n",
    "```\n",
    "conda create -n pydeck-ee -c conda-forge python jupyter notebook pydeck earthengine-api requests -y\n",
    "source activate pydeck-ee\n",
    "jupyter nbextension install --sys-prefix --symlink --overwrite --py pydeck\n",
    "jupyter nbextension enable --sys-prefix --py pydeck\n",
    "```\n",
    "then open Jupyter Notebook with `jupyter notebook`."
   ]
  },
  {
   "cell_type": "markdown",
   "metadata": {},
   "source": [
    "Now in a Python Jupyter Notebook, let's first import required packages:"
   ]
  },
  {
   "cell_type": "code",
   "execution_count": 1,
   "metadata": {},
   "outputs": [],
   "source": [
    "import pydeck as pdk\n",
    "import requests\n",
    "import ee"
   ]
  },
  {
   "cell_type": "markdown",
   "metadata": {},
   "source": [
    "## Authentication\n",
    "\n",
    "Using Earth Engine requires authentication. If you don't have a Google account approved for use with Earth Engine, you'll need to request access. For more information and to sign up, go to https://signup.earthengine.google.com/."
   ]
  },
  {
   "cell_type": "markdown",
   "metadata": {},
   "source": [
    "If you haven't used Earth Engine in Python before, you'll need to run the following authentication command. If you've previously authenticated in Python or the command line, you can skip the next line.\n",
    "\n",
    "Note that this creates a prompt which waits for user input. If you don't see a prompt, you may need to authenticate on the command line with `earthengine authenticate` and then return here, skipping the Python authentication."
   ]
  },
  {
   "cell_type": "code",
   "execution_count": null,
   "metadata": {
    "scrolled": true
   },
   "outputs": [],
   "source": [
    "ee.Authenticate()"
   ]
  },
  {
   "cell_type": "markdown",
   "metadata": {},
   "source": [
    "## Load Authentication\n",
    "\n",
    "The above authentication step creates credentials that are stored on your local computer. Those credentials need to be loaded so that Earth Engine and Pydeck will work.\n",
    "\n",
    "First run the standard Earth Engine initialization:"
   ]
  },
  {
   "cell_type": "code",
   "execution_count": 2,
   "metadata": {},
   "outputs": [],
   "source": [
    "ee.Initialize()"
   ]
  },
  {
   "cell_type": "markdown",
   "metadata": {},
   "source": [
    "A further token is necessary for use with Pydeck. Here we ping the Google OAuth2 API to retrieve that token."
   ]
  },
  {
   "cell_type": "code",
   "execution_count": 3,
   "metadata": {},
   "outputs": [],
   "source": [
    "credentials = ee.data.get_persistent_credentials()\n",
    "url = 'https://www.googleapis.com/oauth2/v4/token'\n",
    "data = {\n",
    "    'client_id': credentials.client_id,\n",
    "    'client_secret': credentials.client_secret,\n",
    "    'refresh_token': credentials.refresh_token,\n",
    "    'grant_type': 'refresh_token'\n",
    "}\n",
    "r = requests.post(url, data=data)\n",
    "access_token = r.json()['access_token']"
   ]
  },
  {
   "cell_type": "markdown",
   "metadata": {},
   "source": [
    "`access_token` now holds a token that you can pass to the Pydeck Earth Engine layer."
   ]
  },
  {
   "cell_type": "markdown",
   "metadata": {},
   "source": [
    "## Create Map\n",
    "\n",
    "Next it's time to create a map. Here we create an `ee.Image` object."
   ]
  },
  {
   "cell_type": "code",
   "execution_count": 4,
   "metadata": {},
   "outputs": [],
   "source": [
    "image = ee.Image('CGIAR/SRTM90_V4')"
   ]
  },
  {
   "cell_type": "markdown",
   "metadata": {},
   "source": [
    "The `Image` object itself can't be passed as-is to Pydeck. To create an object that can be passed to Pydeck, call the `.serialize()` method:"
   ]
  },
  {
   "cell_type": "code",
   "execution_count": 5,
   "metadata": {},
   "outputs": [],
   "source": [
    "ee_object = image.serialize()"
   ]
  },
  {
   "cell_type": "markdown",
   "metadata": {},
   "source": [
    "Since the `EarthEngineLayer` isn't built in to Deck.gl, we need to tell Pydeck to load a custom layer extension. Pass a URL to the built `earthengine-layers` bundle."
   ]
  },
  {
   "cell_type": "code",
   "execution_count": 6,
   "metadata": {},
   "outputs": [],
   "source": [
    "url = 'https://cdn.jsdelivr.net/gh/UnfoldedInc/earthengine-layers@master/modules/earthengine-layers/dist/bundle.js'\n",
    "pdk.settings.custom_libraries = [\n",
    "    {\n",
    "        \"libraryName\": \"EarthEngineLayerLibrary\",\n",
    "        \"resourceUri\": url,\n",
    "    }\n",
    "]"
   ]
  },
  {
   "cell_type": "markdown",
   "metadata": {},
   "source": [
    "Now we're ready to create the Pydeck layer. Note that you must include the `token` and serialized `ee_object` here. Currently in Pydeck, you must wrap each string in quotes, so that Pydeck doesn't interpret the string as a function. Also, the character used to wrap the string must not appear in the string, so please use a literal `'`."
   ]
  },
  {
   "cell_type": "code",
   "execution_count": 7,
   "metadata": {},
   "outputs": [],
   "source": [
    "ee_layer = pdk.Layer(\n",
    "    \"EarthEngineLayer\",\n",
    "    None,\n",
    "    token=f\"'{access_token}'\",\n",
    "    ee_object=f\"'{ee_object}'\",\n",
    "    vis_params={\"min\": 0, \"max\": 255}\n",
    ")"
   ]
  },
  {
   "cell_type": "markdown",
   "metadata": {},
   "source": [
    "Then just pass this layer to a `pydeck.Deck` instance, and call `.show()` to create a map:"
   ]
  },
  {
   "cell_type": "code",
   "execution_count": 8,
   "metadata": {},
   "outputs": [
    {
     "data": {
      "application/vnd.jupyter.widget-view+json": {
       "model_id": "ab8a4211e13546c9b19c6a9437de6c04",
       "version_major": 2,
       "version_minor": 0
      },
      "text/plain": [
       "DeckGLWidget(custom_libraries=[{'libraryName': 'EarthEngineLayerLibrary', 'resourceUri': 'https://cdn.jsdelivr…"
      ]
     },
     "metadata": {},
     "output_type": "display_data"
    }
   ],
   "source": [
    "view_state = pdk.ViewState(latitude=37.7749295, longitude=-122.4194155, zoom=10, bearing=0, pitch=45)\n",
    "r = pdk.Deck(\n",
    "    layers=[ee_layer], \n",
    "    initial_view_state=view_state\n",
    ")\n",
    "r.show()"
   ]
  },
  {
   "cell_type": "markdown",
   "metadata": {},
   "source": [
    "## Power plants"
   ]
  },
  {
   "cell_type": "code",
   "execution_count": 9,
   "metadata": {},
   "outputs": [],
   "source": [
    "# Visualization for WRI/GPPD/power_plants\n",
    "# https://code.earthengine.google.com/9efbd726e4a8ba9b8b56ba94f1267678\n",
    "table = ee.FeatureCollection(\"WRI/GPPD/power_plants\");"
   ]
  },
  {
   "cell_type": "code",
   "execution_count": 13,
   "metadata": {},
   "outputs": [],
   "source": [
    "# Get a color from a fuel\n",
    "fuel_color = ee.Dictionary({\n",
    "  'Coal': '000000',\n",
    "  'Oil': '593704',\n",
    "  'Gas': 'BC80BD',\n",
    "  'Hydro': '0565A6',\n",
    "  'Nuclear': 'E31A1C',\n",
    "  'Solar': 'FF7F00',\n",
    "  'Waste': '6A3D9A',\n",
    "  'Wind': '5CA2D1',\n",
    "  'Geothermal': 'FDBF6F',\n",
    "  'Biomass': '229A00'\n",
    "})\n",
    "\n",
    "# List of fuels to add to the map\n",
    "fuels = ['Coal', 'Oil', 'Gas', 'Hydro', 'Nuclear', 'Solar', 'Waste',\n",
    "    'Wind', 'Geothermal', 'Biomass']"
   ]
  },
  {
   "cell_type": "code",
   "execution_count": 25,
   "metadata": {},
   "outputs": [],
   "source": [
    "def add_style(pt):\n",
    "    \"\"\"Computes size from capacity and color from fuel type\n",
    "    \n",
    "    Arguments:\n",
    "        - (pt): A point\n",
    "        \n",
    "    Returns:\n",
    "        (ee.Geometry.Point): Input point with added style dictionary \n",
    "    \"\"\"\n",
    "    size = ee.Number(pt.get('capacitymw')).sqrt().divide(10).add(2)\n",
    "    color = fuel_color.get(pt.get('fuel1'))\n",
    "    return pt.set('styleProperty', ee.Dictionary({'pointSize': size, 'color': color}))"
   ]
  },
  {
   "cell_type": "code",
   "execution_count": 27,
   "metadata": {
    "scrolled": true
   },
   "outputs": [],
   "source": [
    "# Make a FeatureCollection out of the power plant data table\n",
    "pp = ee.FeatureCollection(table).map(add_style);"
   ]
  },
  {
   "cell_type": "code",
   "execution_count": 30,
   "metadata": {},
   "outputs": [],
   "source": [
    "def filter_layer(fuel):\n",
    "    return pp.filter(ee.Filter.eq('fuel1', fuel)).style({'styleProperty': 'styleProperty', 'neighborhood': 50})"
   ]
  },
  {
   "cell_type": "code",
   "execution_count": 31,
   "metadata": {},
   "outputs": [],
   "source": [
    "coal = filter_layer('coal')"
   ]
  },
  {
   "cell_type": "code",
   "execution_count": 36,
   "metadata": {},
   "outputs": [],
   "source": [
    "ee_object = coal.serialize()\n",
    "ee_layer = pdk.Layer(\n",
    "    \"EarthEngineLayer\",\n",
    "    None,\n",
    "    token=f\"'{access_token}'\",\n",
    "    ee_object=f\"'{ee_object}'\",\n",
    "    vis_params={}\n",
    ")"
   ]
  },
  {
   "cell_type": "code",
   "execution_count": 39,
   "metadata": {},
   "outputs": [
    {
     "ename": "TypeError",
     "evalue": "encode() missing 1 required positional argument: 'encoder'",
     "output_type": "error",
     "traceback": [
      "\u001b[0;31m---------------------------------------------------------------------------\u001b[0m",
      "\u001b[0;31mTypeError\u001b[0m                                 Traceback (most recent call last)",
      "\u001b[0;32m<ipython-input-39-eb5d58c67f84>\u001b[0m in \u001b[0;36m<module>\u001b[0;34m\u001b[0m\n\u001b[0;32m----> 1\u001b[0;31m \u001b[0mcoal\u001b[0m\u001b[0;34m.\u001b[0m\u001b[0mencode\u001b[0m\u001b[0;34m(\u001b[0m\u001b[0;34m)\u001b[0m\u001b[0;34m\u001b[0m\u001b[0;34m\u001b[0m\u001b[0m\n\u001b[0m",
      "\u001b[0;31mTypeError\u001b[0m: encode() missing 1 required positional argument: 'encoder'"
     ]
    }
   ],
   "source": []
  },
  {
   "cell_type": "code",
   "execution_count": 38,
   "metadata": {},
   "outputs": [
    {
     "data": {
      "text/plain": [
       "{\"@@type\": \"EarthEngineLayer\", \"eeObject\": \"{\\\"type\\\": \\\"CompoundValue\\\", \\\"scope\\\": [[\\\"0\\\", {\\\"type\\\": \\\"Invocation\\\", \\\"arguments\\\": {\\\"tableId\\\": \\\"WRI/GPPD/power_plants\\\"}, \\\"functionName\\\": \\\"Collection.loadTable\\\"}], [\\\"1\\\", {\\\"type\\\": \\\"Invocation\\\", \\\"arguments\\\": {\\\"object\\\": {\\\"type\\\": \\\"ArgumentRef\\\", \\\"value\\\": \\\"_MAPPING_VAR_0_0\\\"}, \\\"property\\\": \\\"capacitymw\\\"}, \\\"functionName\\\": \\\"Element.get\\\"}], [\\\"2\\\", {\\\"type\\\": \\\"Invocation\\\", \\\"arguments\\\": {\\\"input\\\": {\\\"type\\\": \\\"ValueRef\\\", \\\"value\\\": \\\"1\\\"}}, \\\"functionName\\\": \\\"Number.sqrt\\\"}], [\\\"3\\\", {\\\"type\\\": \\\"Invocation\\\", \\\"arguments\\\": {\\\"left\\\": {\\\"type\\\": \\\"ValueRef\\\", \\\"value\\\": \\\"2\\\"}, \\\"right\\\": 10}, \\\"functionName\\\": \\\"Number.divide\\\"}], [\\\"4\\\", {\\\"type\\\": \\\"Invocation\\\", \\\"arguments\\\": {\\\"left\\\": {\\\"type\\\": \\\"ValueRef\\\", \\\"value\\\": \\\"3\\\"}, \\\"right\\\": 2}, \\\"functionName\\\": \\\"Number.add\\\"}], [\\\"5\\\", {\\\"type\\\": \\\"Dictionary\\\", \\\"value\\\": {\\\"Coal\\\": \\\"000000\\\", \\\"Oil\\\": \\\"593704\\\", \\\"Gas\\\": \\\"BC80BD\\\", \\\"Hydro\\\": \\\"0565A6\\\", \\\"Nuclear\\\": \\\"E31A1C\\\", \\\"Solar\\\": \\\"FF7F00\\\", \\\"Waste\\\": \\\"6A3D9A\\\", \\\"Wind\\\": \\\"5CA2D1\\\", \\\"Geothermal\\\": \\\"FDBF6F\\\", \\\"Biomass\\\": \\\"229A00\\\"}}], [\\\"6\\\", {\\\"type\\\": \\\"ValueRef\\\", \\\"value\\\": \\\"5\\\"}], [\\\"7\\\", {\\\"type\\\": \\\"Invocation\\\", \\\"arguments\\\": {\\\"object\\\": {\\\"type\\\": \\\"ArgumentRef\\\", \\\"value\\\": \\\"_MAPPING_VAR_0_0\\\"}, \\\"property\\\": \\\"fuel1\\\"}, \\\"functionName\\\": \\\"Element.get\\\"}], [\\\"8\\\", {\\\"type\\\": \\\"Invocation\\\", \\\"arguments\\\": {\\\"dictionary\\\": {\\\"type\\\": \\\"ValueRef\\\", \\\"value\\\": \\\"6\\\"}, \\\"key\\\": {\\\"type\\\": \\\"ValueRef\\\", \\\"value\\\": \\\"7\\\"}}, \\\"functionName\\\": \\\"Dictionary.get\\\"}], [\\\"9\\\", {\\\"type\\\": \\\"Dictionary\\\", \\\"value\\\": {\\\"pointSize\\\": {\\\"type\\\": \\\"ValueRef\\\", \\\"value\\\": \\\"4\\\"}, \\\"color\\\": {\\\"type\\\": \\\"ValueRef\\\", \\\"value\\\": \\\"8\\\"}}}], [\\\"10\\\", {\\\"type\\\": \\\"ValueRef\\\", \\\"value\\\": \\\"9\\\"}], [\\\"11\\\", {\\\"type\\\": \\\"Invocation\\\", \\\"arguments\\\": {\\\"object\\\": {\\\"type\\\": \\\"ArgumentRef\\\", \\\"value\\\": \\\"_MAPPING_VAR_0_0\\\"}, \\\"key\\\": \\\"styleProperty\\\", \\\"value\\\": {\\\"type\\\": \\\"ValueRef\\\", \\\"value\\\": \\\"10\\\"}}, \\\"functionName\\\": \\\"Element.set\\\"}], [\\\"12\\\", {\\\"type\\\": \\\"Function\\\", \\\"argumentNames\\\": [\\\"_MAPPING_VAR_0_0\\\"], \\\"body\\\": {\\\"type\\\": \\\"ValueRef\\\", \\\"value\\\": \\\"11\\\"}}], [\\\"13\\\", {\\\"type\\\": \\\"Invocation\\\", \\\"arguments\\\": {\\\"collection\\\": {\\\"type\\\": \\\"ValueRef\\\", \\\"value\\\": \\\"0\\\"}, \\\"baseAlgorithm\\\": {\\\"type\\\": \\\"ValueRef\\\", \\\"value\\\": \\\"12\\\"}}, \\\"functionName\\\": \\\"Collection.map\\\"}], [\\\"14\\\", {\\\"type\\\": \\\"Invocation\\\", \\\"arguments\\\": {\\\"leftField\\\": \\\"fuel1\\\", \\\"rightValue\\\": \\\"coal\\\"}, \\\"functionName\\\": \\\"Filter.equals\\\"}], [\\\"15\\\", {\\\"type\\\": \\\"Invocation\\\", \\\"arguments\\\": {\\\"collection\\\": {\\\"type\\\": \\\"ValueRef\\\", \\\"value\\\": \\\"13\\\"}, \\\"filter\\\": {\\\"type\\\": \\\"ValueRef\\\", \\\"value\\\": \\\"14\\\"}}, \\\"functionName\\\": \\\"Collection.filter\\\"}], [\\\"16\\\", {\\\"type\\\": \\\"Dictionary\\\", \\\"value\\\": {\\\"styleProperty\\\": \\\"styleProperty\\\", \\\"neighborhood\\\": 50}}], [\\\"17\\\", {\\\"type\\\": \\\"Invocation\\\", \\\"arguments\\\": {\\\"collection\\\": {\\\"type\\\": \\\"ValueRef\\\", \\\"value\\\": \\\"15\\\"}, \\\"color\\\": {\\\"type\\\": \\\"ValueRef\\\", \\\"value\\\": \\\"16\\\"}}, \\\"functionName\\\": \\\"Collection.style\\\"}]], \\\"value\\\": {\\\"type\\\": \\\"ValueRef\\\", \\\"value\\\": \\\"17\\\"}}\", \"id\": \"a1f1c9b2-8feb-4c9f-9b2e-d7b5ecd2104b\", \"token\": \"ya29.a0Ae4lvC1FMB9s9mOAEMXyUnfzeINBE3hBRF7UJ0EcTlgqbhr6mRJuVkuxlWrqHmLYd-aI9JaFqz1u0NnkZKZF-z6QWZTFFTcyZrbun7m6vYkSYhNMApWhS4hmmdMEic51zgZOb_D4lqXZKNqQ6kPmXQq8-INMcTq7GRx3\", \"visParams\": {}}"
      ]
     },
     "execution_count": 38,
     "metadata": {},
     "output_type": "execute_result"
    }
   ],
   "source": [
    "ee_layer"
   ]
  },
  {
   "cell_type": "code",
   "execution_count": 37,
   "metadata": {
    "scrolled": true
   },
   "outputs": [
    {
     "data": {
      "application/vnd.jupyter.widget-view+json": {
       "model_id": "de74ae74133440fda9e3b3a261f4b09a",
       "version_major": 2,
       "version_minor": 0
      },
      "text/plain": [
       "DeckGLWidget(custom_libraries=[{'libraryName': 'EarthEngineLayerLibrary', 'resourceUri': 'https://cdn.jsdelivr…"
      ]
     },
     "metadata": {},
     "output_type": "display_data"
    }
   ],
   "source": [
    "view_state = pdk.ViewState(latitude=37.7749295, longitude=-118.4194155, zoom=8, bearing=0, pitch=20)\n",
    "r = pdk.Deck(\n",
    "    layers=[ee_layer], \n",
    "    initial_view_state=view_state\n",
    ")\n",
    "r.show()"
   ]
  },
  {
   "cell_type": "code",
   "execution_count": null,
   "metadata": {},
   "outputs": [],
   "source": [
    "/**\n",
    " * Adds power plants of a certain fuel type to the map.\n",
    " *\n",
    " * @param {string} fuel A fuel type\n",
    " */\n",
    "function addLayer(fuel) {\n",
    "  print(fuel);\n",
    "  Map.addLayer(pp.filter(ee.Filter.eq('fuel1', fuel)).style({styleProperty: 'styleProperty', neighborhood: 50}), {}, fuel, true, 0.65);\n",
    "}\n",
    "\n",
    "// Apply `addLayer` to each record in `fuels`\n",
    "fuelColor.keys().getInfo().map(addLayer);\n"
   ]
  }
 ],
 "metadata": {
  "kernelspec": {
   "display_name": "Python 3",
   "language": "python",
   "name": "python3"
  },
  "language_info": {
   "codemirror_mode": {
    "name": "ipython",
    "version": 3
   },
   "file_extension": ".py",
   "mimetype": "text/x-python",
   "name": "python",
   "nbconvert_exporter": "python",
   "pygments_lexer": "ipython3",
   "version": "3.7.6"
  }
 },
 "nbformat": 4,
 "nbformat_minor": 4
}
